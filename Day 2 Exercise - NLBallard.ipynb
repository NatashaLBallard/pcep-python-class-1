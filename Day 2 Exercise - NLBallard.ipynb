{
 "cells": [
  {
   "cell_type": "markdown",
   "metadata": {},
   "source": [
    "## Exercises\n",
    "### Write the pseudocode for these problems. \n",
    "\n",
    "#### Define the problem by constructing an IPO diagram showing input, output, and processing steps\n",
    "Ask yourself\n",
    "- What control structures (sequence, selection and repetition) are required?\n",
    "- What variables are required?\n",
    "\n",
    "Show a check of your solution with **test data** for at least **two valid test cases**\n",
    "If you use the numbers provided in the example then the correct pseudocode will calculate the same result.\n",
    "    "
   ]
  },
  {
   "cell_type": "markdown",
   "metadata": {},
   "source": [
    "#### 1. Find the average score\n",
    "A program is needed to prompt the user operator for exam scores, calculate the average score and display the result to the screen. The average score is calculated as the sum of the scores divided by the number of scores."
   ]
  },
  {
   "cell_type": "markdown",
   "metadata": {},
   "source": [
    "START\n",
    "Set list examScores = []\n",
    "Set int inputValue = 0\n",
    "Set int numberOfScores = 0\n",
    "Set int Sum =  0\n",
    "Set int Avg = 0\n",
    "Get user input for test score \n",
    "IF User presses Add button,\n",
    "THEN\n",
    "Store element into list \n",
    "Clear user input box, \n",
    "Increase numberOfScores + 1\n",
    "ELSE user presses Calculate button,\n",
    "Store element into list \n",
    "Clear user input box, \n",
    "Increase numberOfScores + 1\n",
    "Set Sum = Calculated sum of elements within list\n",
    "Set Avg = Sum / numberOfScores \n",
    "Display Avg\n",
    "ENDIF\n",
    "STOP\n",
    "\n",
    "----Test Data----\n",
    "inputValue = 90\n",
    "examScores: [90]\n",
    "inputValue = 0\n",
    "numberOfScores: 1\n",
    "\n",
    "inputValue = 40\n",
    "examScores: [90,40]\n",
    "inputValue = 0\n",
    "numberOfScores: 2\n",
    "\n",
    "inputValue = 65\n",
    "examScores: [90,40,65]\n",
    "inputValue = 0\n",
    "numberOfScores: 3\n",
    "*User clicks Calculate\n",
    "Sum = 90 + 45 + 65\n",
    "Sum = 200\n",
    "Avg = 200/3\n",
    "Avg = 66.67\n"
   ]
  },
  {
   "cell_type": "markdown",
   "metadata": {},
   "source": [
    "#### 2. How much water runs off a roof in a rain storm?\n",
    "To calculate the runoff from any given rainfall: Take the dimensions of the footprint of the roof and convert them to inches. (So, a 50' x 20' roof is 600\" x 240\"). Multiply the roof dimensions by the number of inches of rainfall. As an example, 600\" x 240\" x 1\" = 144,000 cubic inches of water for an inch of rainfall. Divide that result by 231 to get the number of gallons (because 1 gallon = 231 cubic inches). (144,000/231 = 623.38)."
   ]
  },
  {
   "cell_type": "markdown",
   "metadata": {},
   "source": [
    "START\n",
    "Set int x_roof = 0\n",
    "Set int y_roof = 0\n",
    "Set int tempNumber = 0\n",
    "\n",
    "Set int gallons = 0\n",
    "*Conversion to Inches*\n",
    "Get user input for tempNumber with message “Set X dimension”\n",
    "Set x_roof = tempNumber * 12\n",
    "Set tempNumber = 0\n",
    "Get user input for tempNumber with message “Set Y dimension”\n",
    "Set y_roof = tempNumber * 12\n",
    "Set tempNumber = 0\n",
    "*Calculation of Roof Dimensions by Rainfall *\n",
    "\tGet user input for tempNumber with message “How much rainfall did you receive?”\n",
    "\tinchesOfRainfall = x_roof * y_roof * tempNumber\n",
    "Set tempNumber = 0\n",
    "*Calculation of Gallons *\n",
    "\tgallons = inchesOfRainfall / 231\n",
    "STOP\n",
    "\n",
    "\n",
    "----Test Data----\n",
    "tempNumber = 5\n",
    "x_roof = 5*12\n",
    "x_roof = 60\n",
    "tempNumber = 0\n",
    "\n",
    "tempNumber = 10\n",
    "y_roof = 10*12\n",
    "y_roof = 120\n",
    "tempNumber = 0\n",
    "\n",
    "tempNumber = 8\n",
    "inchesOfRainfall = 60 * 120 * 8\n",
    "inchesOfRainfall = 56700\n",
    "tempNumber = 0\n",
    "\n",
    "gallons = 56700 / 231\n",
    "gallons = 245.45\n",
    "\n"
   ]
  },
  {
   "cell_type": "markdown",
   "metadata": {},
   "source": [
    "#### 3. Process customer record\n",
    "A program is required to read a customer’s name, a purchase amount and a tax code. The tax code has been validated and will be one of the following: 0 tax exempt (0%) 1 state sales tax only (3%) 2 federal and state sales tax (5%) 3 special sales tax (7%) The program must then compute the sales tax and the total amount due,and print the customer’s name, purchase amount, sales tax and total amount due."
   ]
  },
  {
   "cell_type": "markdown",
   "metadata": {},
   "source": [
    "\n",
    "START\n",
    "Set str custName = \n",
    "Set int purchaseAmount = 0\n",
    "Set int totalDue = 0\n",
    "Set int taxCode = 0\n",
    "Set int exemptTax = 0\n",
    "Set int statesTax = .03\n",
    "Set int fedStatesTax = .05\n",
    "Set int specialTax = .07\n",
    "\n",
    "Get user input for custName\n",
    "Get user input for purchaseAmount\n",
    "Get user input for taxCode from dropdown bar \n",
    "\tIF\n",
    "\t\ttaxCode = exemptTax,\n",
    "\tTHEN\n",
    "\t\ttotalDue = purchaseAmount\n",
    "\tELSEIF\n",
    "\t\ttaxCode = statesTax\n",
    "\tTHEN\n",
    "\t\ttotalDue = (purchaseAmount * statesTax) + purchaseAmount\n",
    "\tELSEIF\n",
    "\t\ttaxCode = fedStatesTax\n",
    "\tTHEN\n",
    "\t\ttotalDue = (purchaseAmount * fedStatesTax) + purchaseAmount\n",
    "\tELSEIF\n",
    "\t\ttaxCode = specialTax\n",
    "\tTHEN\n",
    "\t\ttotalDue = (purchaseAmount * specialTax) + purchaseAmount\n",
    "\tENDIF\n",
    "\n",
    "Print custName + purchaseAmount + taxCode + totalDue\n",
    "\n"
   ]
  },
  {
   "cell_type": "markdown",
   "metadata": {},
   "source": [
    "#### 4. Calculate employee's pay \n",
    "A program is required by a company to read an employee’s number, pay rate and the number of hours worked in a week. The program is then to validate the pay rate field and the hours worked field and, if valid, compute the employee’s weekly pay and then print it and the input data.\n",
    "\n",
    "Validation: According to the company’s rules, the maximum hours an employee can work per week is 60 hours, and the maximum hourly rate is $25.00 per hour. If the hours worked field or the hourly rate field is out of range, the input data and an appropriate message are to be printed and the employee’s weekly pay is not to be calculated.\n",
    "\n",
    "Weekly pay calculation: Weekly pay is calculated as hours worked times pay rate. If more than 35 hours are worked, payment for the overtime hours worked is calculated at time-and-a-half."
   ]
  },
  {
   "cell_type": "markdown",
   "metadata": {},
   "source": [
    "START\n",
    "\tSet int empNumber = 0\n",
    "Set int payRate = 0\n",
    "Set int workedHours = 0\n",
    "Set int overtimeHours = 0\n",
    "\n",
    "Get user input for empNumber\n",
    "System automatically populate payRate and workedHours\n",
    "\n",
    "IF \n",
    "workedHours >  60 OR payRate >  25, \n",
    "THEN \n",
    "print message\n",
    "ELSEIF\n",
    "\tworkedHours >  35,\n",
    "\tTHEN\n",
    "\t\tovertimeHours = workedHours - 35\n",
    "payRate = (payRate /2) + (payrate * overtimeHours) + workedHours\n",
    "ELSE\n",
    "\tworkedHours <  35,\n",
    "\tTHEN\n",
    "payRate = payRate *  workedHours\n",
    "ENDIF\n",
    "STOP\n"
   ]
  }
 ],
 "metadata": {
  "kernelspec": {
   "display_name": "Python 3",
   "language": "python",
   "name": "python3"
  },
  "language_info": {
   "codemirror_mode": {
    "name": "ipython",
    "version": 3
   },
   "file_extension": ".py",
   "mimetype": "text/x-python",
   "name": "python",
   "nbconvert_exporter": "python",
   "pygments_lexer": "ipython3",
   "version": "3.8.8"
  }
 },
 "nbformat": 4,
 "nbformat_minor": 2
}
