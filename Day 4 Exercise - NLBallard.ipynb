{
 "cells": [
  {
   "cell_type": "markdown",
   "metadata": {},
   "source": [
    "1. Round 4.5667 to the nearest hundreth using a build-in function, round()."
   ]
  },
  {
   "cell_type": "code",
   "execution_count": null,
   "metadata": {},
   "outputs": [],
   "source": [
    "round(4.5667, 2)"
   ]
  },
  {
   "cell_type": "markdown",
   "metadata": {},
   "source": [
    "2. Convert \"657\" to an integer data type"
   ]
  },
  {
   "cell_type": "code",
   "execution_count": null,
   "metadata": {},
   "outputs": [],
   "source": [
    "int(657)"
   ]
  },
  {
   "cell_type": "markdown",
   "metadata": {},
   "source": [
    "3.\n",
    "Write a program to get two numbers from a user. Then, create a secret code where a code consists of 6 numbers and each number is randomly generated number between two numbers from a user. "
   ]
  },
  {
   "cell_type": "code",
   "execution_count": null,
   "metadata": {},
   "outputs": [],
   "source": [
    "import random as rand\n",
    "numOne = int(input(\"Pick 1st Number: \"))\n",
    "numTwo = int(input(\"Pick 2nd Number: \"))\n",
    "\n",
    "secret1= rand.randint(numOne,numTwo)\n",
    "secret2= rand.randint(numOne,numTwo)\n",
    "secret3= rand.randint(numOne,numTwo)\n",
    "secret4= rand.randint(numOne,numTwo)\n",
    "secret5= rand.randint(numOne,numTwo)\n",
    "secret6= rand.randint(numOne,numTwo)\n",
    "secretcode = secret1, secret2, secret3, secret4, secret5, secret6\n",
    "\n",
    "#print(secret1, secret2, secret3, secret4, secret5, secret6)\n",
    "print(f\"Your secret code is: {secretcode}\")\n",
    "\n"
   ]
  },
  {
   "cell_type": "markdown",
   "metadata": {},
   "source": [
    "4.\n",
    "Write a program to center align below text where number of characters per line is 40:\n",
    "\n",
    "    Hickory, dickory, dock,\n",
    "    The mouse ran up the clock.\n",
    "    The clock struck one,\n",
    "    The mouse ran down,\n",
    "    Hickory, dickory, dock\n"
   ]
  },
  {
   "cell_type": "code",
   "execution_count": null,
   "metadata": {},
   "outputs": [],
   "source": [
    "line1 = \"Hickory, dickory, dock,\"\n",
    "line2 = \"The mouse ran up the clock.\"\n",
    "line3 = \"The clock struck one,\"\n",
    "line4 = \"The mouse ran down,\"\n",
    "line5 = \"Hickory, dickory, dock\"\n",
    "\n",
    "\n",
    "maxLength = 40\n",
    "differenceOfLength = maxLength - len(line1)\n",
    "line1 = line1.center(50)\n",
    "print(line1)\n",
    "\n",
    "maxLength = 40\n",
    "differenceOfLength = maxLength - len(line2)\n",
    "line2 = line2.center(50)\n",
    "print(line2)\n",
    "\n",
    "maxLength = 40\n",
    "differenceOfLength = maxLength - len(line3)\n",
    "line3 = line3.center(50)\n",
    "print(line3)\n",
    "\n",
    "maxLength = 40\n",
    "differenceOfLength = maxLength - len(line4)\n",
    "line4 = line4.center(50)\n",
    "print(line4)\n",
    "\n",
    "maxLength = 40\n",
    "differenceOfLength = maxLength - len(line5)\n",
    "line5 = line5.center(50)\n",
    "print(line5)\n",
    "\n",
    "\n"
   ]
  },
  {
   "cell_type": "markdown",
   "metadata": {},
   "source": [
    "5. Write a function to calculate the miles per gallon.\n",
    "Get a miles driven and gallons used from a user and call your function to calculate the miles per gallon. "
   ]
  },
  {
   "cell_type": "code",
   "execution_count": 3,
   "metadata": {},
   "outputs": [],
   "source": [
    "def calculate_gallons():\n",
    "    milesDriven = float(input(\"Miles Driven: \"))\n",
    "    gallonsUsed = float(input(\"Gallons Used: \"))\n",
    "    mpg = milesDriven / gallonsUsed\n",
    "    print(calculate_gallons)\n",
    "    \n",
    "    \n",
    "    "
   ]
  },
  {
   "cell_type": "code",
   "execution_count": null,
   "metadata": {},
   "outputs": [],
   "source": []
  },
  {
   "cell_type": "code",
   "execution_count": null,
   "metadata": {},
   "outputs": [],
   "source": []
  }
 ],
 "metadata": {
  "kernelspec": {
   "display_name": "Python 3",
   "language": "python",
   "name": "python3"
  },
  "language_info": {
   "codemirror_mode": {
    "name": "ipython",
    "version": 3
   },
   "file_extension": ".py",
   "mimetype": "text/x-python",
   "name": "python",
   "nbconvert_exporter": "python",
   "pygments_lexer": "ipython3",
   "version": "3.8.8"
  }
 },
 "nbformat": 4,
 "nbformat_minor": 4
}
